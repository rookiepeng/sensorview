{
 "cells": [
  {
   "cell_type": "markdown",
   "metadata": {},
   "source": [
    "#### Import modules"
   ]
  },
  {
   "cell_type": "code",
   "execution_count": 1,
   "metadata": {
    "hide_input": false
   },
   "outputs": [],
   "source": [
    "import os\n",
    "import numpy as np\n",
    "import pandas as pd\n",
    "import plotly.graph_objs as go\n",
    "\n",
    "import datetime\n",
    "\n",
    "import json\n",
    "\n",
    "# import matplotlib.pyplot as plt\n",
    "# import seaborn as sns\n",
    "# from scipy.io import loadmat\n",
    "\n",
    "# %matplotlib inline\n",
    "# %config InlineBackend.figure_format = 'svg'\n",
    "# sns.set_style('darkgrid')"
   ]
  },
  {
   "cell_type": "code",
   "execution_count": 2,
   "metadata": {},
   "outputs": [],
   "source": [
    "# from unpack import unpack_detections"
   ]
  },
  {
   "cell_type": "code",
   "execution_count": 3,
   "metadata": {},
   "outputs": [],
   "source": [
    "from viz import get_animation_data"
   ]
  },
  {
   "cell_type": "markdown",
   "metadata": {},
   "source": [
    "#### Import detections"
   ]
  },
  {
   "cell_type": "code",
   "execution_count": null,
   "metadata": {},
   "outputs": [],
   "source": [
    "path = '../data/pedestrian_SWv5.0.0.5_unit038/'\n",
    "file_name = 'det_FLR4Plus_20201118_Ped_walking_1_135943_001.pkl'\n",
    "det_list = pd.read_pickle(path+file_name)"
   ]
  },
  {
   "cell_type": "code",
   "execution_count": null,
   "metadata": {},
   "outputs": [],
   "source": [
    "filtered_list = det_list\n",
    "\n",
    "# filtered_list = filtered_list[filtered_list['Longitude'] > 311]\n",
    "# filtered_list = filtered_list[filtered_list['Longitude'] < 318]\n",
    "# filtered_list = filtered_list[filtered_list['LookType'] == 3]\n",
    "# filtered_list = filtered_list[filtered_list['Speed'] > -13]\n",
    "# filtered_list = filtered_list[filtered_list['Speed'] < 1.9]\n",
    "# filtered_list = filtered_list[filtered_list['Azimuth'] > -8]\n",
    "# filtered_list = filtered_list[filtered_list['Azimuth'] < 15]\n",
    "\n",
    "filtered_list = filtered_list.reset_index()\n",
    "# det_list = filtered_list"
   ]
  },
  {
   "cell_type": "code",
   "execution_count": null,
   "metadata": {},
   "outputs": [],
   "source": [
    "fig=go.Figure(dict(\n",
    "    data=[dict(\n",
    "        type='histogram',\n",
    "        x=filtered_list['Azimuth'],\n",
    "        histnorm='density',\n",
    "        opacity=0.75,\n",
    "    )],\n",
    "    layout=dict(\n",
    "        barmode='overlay',\n",
    "        xaxis_title_text='Value', # xaxis label\n",
    "        yaxis_title_text='Count', # yaxis label\n",
    "        uirevision='no_change',\n",
    "    )\n",
    "))\n",
    "fig.show()"
   ]
  },
  {
   "cell_type": "code",
   "execution_count": null,
   "metadata": {},
   "outputs": [],
   "source": [
    "# fig = go.Figure(\n",
    "#     go.Histogram2dContour(\n",
    "#         x = filtered_list['Longitude'],\n",
    "#         y = filtered_list['Latitude'],\n",
    "#         colorscale = 'Jet'\n",
    "# ))\n",
    "\n",
    "fig = go.Figure(\n",
    "    dict(\n",
    "        type='histogram2dcontour',\n",
    "        x = filtered_list['Longitude'],\n",
    "        y = filtered_list['Latitude'],\n",
    "        colorscale = 'Jet'\n",
    "    )\n",
    ")\n",
    "\n",
    "fig.show()"
   ]
  },
  {
   "cell_type": "code",
   "execution_count": null,
   "metadata": {},
   "outputs": [],
   "source": [
    "def load_config(json_file):\n",
    "    with open(json_file, 'r') as read_file:\n",
    "        return json.load(read_file)\n",
    "\n",
    "test_case = 'pedestrian_SWv5.0.0.5_unit038'\n",
    "    \n",
    "if os.path.exists('../data/'+test_case+'/config.json'):\n",
    "    ui_config = load_config('../data/'+test_case+'/config.json')\n",
    "else:\n",
    "    ui_config = load_config('config.json')\n",
    "\n",
    "num_keys = []\n",
    "for idx, s_item in enumerate(ui_config['numerical']):\n",
    "    num_keys.append(\n",
    "        ui_config['numerical'][s_item]['key'])\n",
    "\n",
    "cat_keys = []\n",
    "for idx, d_item in enumerate(ui_config['categorical']):\n",
    "    cat_keys.append(\n",
    "        ui_config['categorical'][d_item]['key'])\n",
    "\n",
    "keys_dict = {**ui_config['categorical'], **ui_config['numerical']}"
   ]
  },
  {
   "cell_type": "code",
   "execution_count": null,
   "metadata": {},
   "outputs": [],
   "source": [
    "fig = go.Figure(\n",
    "    get_animation_data(\n",
    "        det_list,\n",
    "        x_key='Latitude',\n",
    "        y_key='Longitude',\n",
    "        z_key='Height',\n",
    "        host_x_key='HostLatitude',\n",
    "        host_y_key='HostLongitude',\n",
    "        color_key='SNR',\n",
    "        hover_dict=keys_dict,\n",
    "        db=False,\n",
    "        colormap='Rainbow',\n",
    "        height=700,\n",
    "        title=file_name[:-4]\n",
    "    )\n",
    ")\n",
    "fig.show()\n",
    "\n",
    "# now = datetime.datetime.now()\n",
    "# timestamp = now.strftime('%Y%m%d_%H%M%S')\n",
    "\n",
    "# fig.write_html('../data/'+test_case+'/images/' + file_name[:-4] +'_' +\n",
    "#                             timestamp+'_3dview.html')"
   ]
  },
  {
   "cell_type": "markdown",
   "metadata": {},
   "source": [
    "## Batch"
   ]
  },
  {
   "cell_type": "code",
   "execution_count": null,
   "metadata": {},
   "outputs": [],
   "source": [
    "def load_config(json_file):\n",
    "    with open(json_file, 'r') as read_file:\n",
    "        return json.load(read_file)\n",
    "\n",
    "test_case = 'arbe_931_trail_bridge'\n",
    "    \n",
    "if os.path.exists('../../../OneDrive - Aptiv/Road_Data/'+test_case+'/config.json'):\n",
    "    ui_config = load_config('../../../OneDrive - Aptiv/Road_Data/'+test_case+'/config.json')\n",
    "else:\n",
    "    ui_config = load_config('config.json')\n",
    "\n",
    "num_keys = []\n",
    "for idx, s_item in enumerate(ui_config['numerical']):\n",
    "    num_keys.append(\n",
    "        ui_config['numerical'][s_item]['key'])\n",
    "\n",
    "cat_keys = []\n",
    "for idx, d_item in enumerate(ui_config['categorical']):\n",
    "    cat_keys.append(\n",
    "        ui_config['categorical'][d_item]['key'])\n",
    "\n",
    "keys_dict = {**ui_config['categorical'], **ui_config['numerical']}"
   ]
  },
  {
   "cell_type": "code",
   "execution_count": null,
   "metadata": {},
   "outputs": [],
   "source": [
    "path = '../../../OneDrive - Aptiv/Road_Data/arbe_931_trail_bridge/'\n",
    "# file_name = 'arbe-rosbag_2021-02-12-14-04-08.pkl'\n",
    "# det_list = pd.read_pickle(path+file_name)\n",
    "\n",
    "files = [f for f in os.listdir(\n",
    "    path) if os.path.isfile(os.path.join(path, f))]\n",
    "\n",
    "for f in files:\n",
    "    file_name=f\n",
    "    \n",
    "    if file_name[-3:] == 'pkl':\n",
    "    \n",
    "        det_list = pd.read_pickle(path+file_name)\n",
    "        filtered_list = det_list\n",
    "\n",
    "        filtered_list = filtered_list[filtered_list['Power [dB]'] > 54]\n",
    "        # filtered_list = filtered_list[filtered_list['Longitude'] < 318]\n",
    "        # filtered_list = filtered_list[filtered_list['LookType'] == 3]\n",
    "        # filtered_list = filtered_list[filtered_list['Speed'] > -13]\n",
    "        # filtered_list = filtered_list[filtered_list['Speed'] < 1.9]\n",
    "        # filtered_list = filtered_list[filtered_list['Azimuth'] > -8]\n",
    "        # filtered_list = filtered_list[filtered_list['Azimuth'] < 15]\n",
    "\n",
    "        filtered_list = filtered_list.reset_index()\n",
    "\n",
    "        fig = go.Figure(\n",
    "            get_animation_data(\n",
    "                filtered_list,\n",
    "                x_key='Latitude',\n",
    "                y_key='Longitude',\n",
    "                z_key='Height',\n",
    "                host_x_key='HostLatitude',\n",
    "                host_y_key='HostLongitude',\n",
    "                color_key='Power [dB]',\n",
    "                hover_dict=keys_dict,\n",
    "                db=False,\n",
    "                colormap='Rainbow',\n",
    "                height=700,\n",
    "                title=file_name[:-4]\n",
    "            )\n",
    "        )\n",
    "    #     fig.show()\n",
    "\n",
    "        now = datetime.datetime.now()\n",
    "        timestamp = now.strftime('%Y%m%d_%H%M%S')\n",
    "\n",
    "        fig.write_html('../../../OneDrive - Aptiv/Road_Data/'+test_case+'/images/' + file_name[:-4] +'_' +\n",
    "                                    timestamp+'_3dview.html')"
   ]
  },
  {
   "cell_type": "code",
   "execution_count": null,
   "metadata": {},
   "outputs": [],
   "source": []
  }
 ],
 "metadata": {
  "kernelspec": {
   "display_name": "Python 3",
   "language": "python",
   "name": "python3"
  },
  "language_info": {
   "codemirror_mode": {
    "name": "ipython",
    "version": 3
   },
   "file_extension": ".py",
   "mimetype": "text/x-python",
   "name": "python",
   "nbconvert_exporter": "python",
   "pygments_lexer": "ipython3",
   "version": "3.9.2"
  },
  "varInspector": {
   "cols": {
    "lenName": 16,
    "lenType": 16,
    "lenVar": 40
   },
   "kernels_config": {
    "python": {
     "delete_cmd_postfix": "",
     "delete_cmd_prefix": "del ",
     "library": "var_list.py",
     "varRefreshCmd": "print(var_dic_list())"
    },
    "r": {
     "delete_cmd_postfix": ") ",
     "delete_cmd_prefix": "rm(",
     "library": "var_list.r",
     "varRefreshCmd": "cat(var_dic_list()) "
    }
   },
   "position": {
    "height": "404.4px",
    "left": "1166px",
    "right": "20px",
    "top": "120px",
    "width": "350px"
   },
   "types_to_exclude": [
    "module",
    "function",
    "builtin_function_or_method",
    "instance",
    "_Feature"
   ],
   "window_display": false
  }
 },
 "nbformat": 4,
 "nbformat_minor": 4
}

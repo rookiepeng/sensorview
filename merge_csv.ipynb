{
 "cells": [
  {
   "cell_type": "code",
   "execution_count": 6,
   "metadata": {},
   "outputs": [],
   "source": [
    "import os\n",
    "import json\n",
    "\n",
    "import numpy as np\n",
    "import pandas as pd"
   ]
  },
  {
   "cell_type": "code",
   "execution_count": 7,
   "metadata": {},
   "outputs": [],
   "source": [
    "case_dir ='data/temp/'\n",
    "data_files=[]\n",
    "data_name='Pedestrian_'\n",
    "\n",
    "for dirpath, dirnames, files in os.walk(case_dir):\n",
    "    dirnames[:] = [d for d in dirnames]\n",
    "    for name in files:\n",
    "        if name.lower().endswith('.csv'):\n",
    "            data_files.append({\n",
    "                'label': os.path.join(dirpath[len(case_dir):], name),\n",
    "                'value': json.dumps({\n",
    "                    'path': dirpath[len(case_dir):],\n",
    "                    'name': name})})\n",
    "        "
   ]
  },
  {
   "cell_type": "code",
   "execution_count": 8,
   "metadata": {},
   "outputs": [],
   "source": [
    "merge_files = 78\n",
    "idx_array = np.arange(0, len(data_files), 78)\n"
   ]
  },
  {
   "cell_type": "code",
   "execution_count": 10,
   "metadata": {},
   "outputs": [],
   "source": [
    "for file_idx, start_val in enumerate(idx_array):\n",
    "    merge_list=[]\n",
    "    for idx in range(start_val, min(start_val+78, len(data_files))):\n",
    "        merge_list.append(pd.read_csv(os.path.join(case_dir, data_files[idx]['label'])))\n",
    "        \n",
    "    result = pd.concat(merge_list)\n",
    "    result['Frame'] = round((result['Timestamp'] - np.min(result['Timestamp']))/50)\n",
    "    # result['Latitude'] = result['Range']*np.sin(-result['Azimuth']/180*np.pi+result['sensor_az']/180*np.pi+result['HostYaw'])+result['HostLatitude']+result['sensor_lat']\n",
    "\n",
    "    # result['Longitude'] = result['Range']*np.cos(-result['Azimuth']/180*np.pi+result['sensor_az']/180*np.pi+result['HostYaw'])+result['HostLongitude']+result['sensor_long']\n",
    "\n",
    "    # result['Height'] = result['Range']*np.sin(-result['Elevation']/180*np.pi)+result['sensor_height']\n",
    "    result.to_csv(os.path.join(case_dir,data_name+str(file_idx).zfill(3)+'.csv'))"
   ]
  }
 ],
 "metadata": {
  "kernelspec": {
   "display_name": "Python 3.10.4 ('dev')",
   "language": "python",
   "name": "python3"
  },
  "language_info": {
   "codemirror_mode": {
    "name": "ipython",
    "version": 3
   },
   "file_extension": ".py",
   "mimetype": "text/x-python",
   "name": "python",
   "nbconvert_exporter": "python",
   "pygments_lexer": "ipython3",
   "version": "3.10.4"
  },
  "orig_nbformat": 4,
  "vscode": {
   "interpreter": {
    "hash": "93f700c1059b32d83d5a3c18a32630ee13b0a3dbf4faa4d0f71952c4a11b4154"
   }
  }
 },
 "nbformat": 4,
 "nbformat_minor": 2
}

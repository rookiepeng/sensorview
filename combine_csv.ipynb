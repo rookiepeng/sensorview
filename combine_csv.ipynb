{
 "cells": [
  {
   "cell_type": "code",
   "execution_count": 1,
   "metadata": {},
   "outputs": [],
   "source": [
    "import os\n",
    "import json\n",
    "\n",
    "import numpy as np\n",
    "import pandas as pd\n"
   ]
  },
  {
   "cell_type": "code",
   "execution_count": 14,
   "metadata": {},
   "outputs": [
    {
     "name": "stdout",
     "output_type": "stream",
     "text": [
      "['imgs']\n",
      "[]\n",
      "['imgs']\n",
      "[]\n",
      "['imgs']\n",
      "[]\n",
      "['imgs']\n",
      "[]\n",
      "['imgs']\n",
      "[]\n",
      "['imgs']\n",
      "[]\n",
      "['imgs']\n",
      "[]\n",
      "['imgs']\n",
      "[]\n",
      "['imgs']\n",
      "[]\n",
      "['imgs']\n",
      "[]\n",
      "['imgs']\n",
      "[]\n"
     ]
    }
   ],
   "source": [
    "folder_list = ['F0', 'L0', 'L1','L2','L3','L4','R0','R1','R2','R3','R4']\n",
    "\n",
    "case_dir ='./data/temp/'\n",
    "\n",
    "\n",
    "merge_list=[]\n",
    "\n",
    "for fd_idx, fd in enumerate(folder_list):\n",
    "\n",
    "    data_files=[]\n",
    "    for dirpath, dirnames, files in os.walk(os.path.join(case_dir, fd)):\n",
    "        print(dirnames)\n",
    "        dirnames[:] = [d for d in dirnames]\n",
    "        for name in files:\n",
    "            if name.lower().endswith('.csv'):\n",
    "                data_files.append({\n",
    "                    'label': os.path.join(dirpath[len(case_dir):], name),\n",
    "                    'value': json.dumps({\n",
    "                        'path': dirpath[len(case_dir):],\n",
    "                        'name': name})})\n",
    "    \n",
    "    temp_list=[]\n",
    "    for file_idx, start_val in enumerate(data_files):\n",
    "        temp_list.append(pd.read_csv(os.path.join(case_dir, data_files[file_idx]['label'])))\n",
    "\n",
    "    result = pd.concat(temp_list)\n",
    "    result['Frame'] = round((result['Timestamp'] - np.min(result['Timestamp']))/50)\n",
    "\n",
    "    section = result[result['DetType']==1]\n",
    "    merge_list.append(section)\n",
    "\n",
    "\n",
    "\n",
    "\n",
    "        "
   ]
  },
  {
   "cell_type": "code",
   "execution_count": 15,
   "metadata": {},
   "outputs": [],
   "source": [
    "merged_data = pd.concat(merge_list)\n"
   ]
  },
  {
   "cell_type": "code",
   "execution_count": 17,
   "metadata": {},
   "outputs": [],
   "source": [
    "merged_data.to_pickle('merged.pkl')\n"
   ]
  },
  {
   "cell_type": "code",
   "execution_count": 8,
   "metadata": {},
   "outputs": [],
   "source": [
    "result = pd.concat(merge_list)\n",
    "result['Frame'] = round((result['Timestamp'] - np.min(result['Timestamp']))/50)\n",
    "# result['Latitude'] = result['Range']*np.sin(-result['Azimuth']/180*np.pi+result['sensor_az']/180*np.pi+result['HostYaw'])+result['HostLatitude']+result['sensor_lat']\n",
    "\n",
    "# result['Longitude'] = result['Range']*np.cos(-result['Azimuth']/180*np.pi+result['sensor_az']/180*np.pi+result['HostYaw'])+result['HostLongitude']+result['sensor_long']\n",
    "\n",
    "# result['Height'] = result['Range']*np.sin(-result['Elevation']/180*np.pi)+result['sensor_height']\n",
    "result.to_pickle(os.path.join('merged.pkl'))\n"
   ]
  },
  {
   "cell_type": "code",
   "execution_count": 19,
   "metadata": {},
   "outputs": [],
   "source": [
    "frame_cnt = round((len(merged_data['Frame'].unique()))/10)+1\n",
    "\n",
    "for idx in range(0, 10):\n",
    "    f_start = idx*frame_cnt\n",
    "    f_stop = f_start+frame_cnt\n",
    "    section = merged_data[merged_data['Frame'] >= f_start]\n",
    "    section = section[section['Frame'] < f_stop]\n",
    "\n",
    "    section.to_pickle(os.path.join('merged_'+str(idx).zfill(3)+'.pkl'))\n"
   ]
  }
 ],
 "metadata": {
  "kernelspec": {
   "display_name": "Python 3.10.4 ('dev')",
   "language": "python",
   "name": "python3"
  },
  "language_info": {
   "codemirror_mode": {
    "name": "ipython",
    "version": 3
   },
   "file_extension": ".py",
   "mimetype": "text/x-python",
   "name": "python",
   "nbconvert_exporter": "python",
   "pygments_lexer": "ipython3",
   "version": "3.10.4"
  },
  "orig_nbformat": 4,
  "vscode": {
   "interpreter": {
    "hash": "93f700c1059b32d83d5a3c18a32630ee13b0a3dbf4faa4d0f71952c4a11b4154"
   }
  }
 },
 "nbformat": 4,
 "nbformat_minor": 2
}
